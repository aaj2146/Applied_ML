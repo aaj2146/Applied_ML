{
 "cells": [
  {
   "cell_type": "code",
   "execution_count": 521,
   "metadata": {
    "collapsed": true
   },
   "outputs": [],
   "source": [
    "import scipy.io as spio\n",
    "import numpy as np\n",
    "import pandas as pd"
   ]
  },
  {
   "cell_type": "code",
   "execution_count": 522,
   "metadata": {
    "collapsed": true
   },
   "outputs": [],
   "source": [
    "data = spio.loadmat('hw3data (1).mat')\n",
    "#data"
   ]
  },
  {
   "cell_type": "code",
   "execution_count": 523,
   "metadata": {},
   "outputs": [
    {
     "data": {
      "text/plain": [
       "dict"
      ]
     },
     "execution_count": 523,
     "metadata": {},
     "output_type": "execute_result"
    }
   ],
   "source": [
    "type(data)"
   ]
  },
  {
   "cell_type": "code",
   "execution_count": 524,
   "metadata": {},
   "outputs": [
    {
     "data": {
      "text/plain": [
       "(4096, 3)"
      ]
     },
     "execution_count": 524,
     "metadata": {},
     "output_type": "execute_result"
    }
   ],
   "source": [
    "temp_x = data[\"data\"]\n",
    "temp_x.shape"
   ]
  },
  {
   "cell_type": "code",
   "execution_count": 525,
   "metadata": {},
   "outputs": [
    {
     "data": {
      "text/plain": [
       "(4096, 1)"
      ]
     },
     "execution_count": 525,
     "metadata": {},
     "output_type": "execute_result"
    }
   ],
   "source": [
    "y = data[\"labels\"]\n",
    "y.shape"
   ]
  },
  {
   "cell_type": "code",
   "execution_count": 526,
   "metadata": {},
   "outputs": [
    {
     "data": {
      "text/plain": [
       "(4096, 4)"
      ]
     },
     "execution_count": 526,
     "metadata": {},
     "output_type": "execute_result"
    }
   ],
   "source": [
    "x = np.insert(temp_x, 0, 1, axis=1)\n",
    "x.shape"
   ]
  },
  {
   "cell_type": "code",
   "execution_count": 527,
   "metadata": {},
   "outputs": [
    {
     "data": {
      "text/plain": [
       "array([[  1.        ,  13.78870202,   0.81472369,  16.40247248],\n",
       "       [  1.        ,   1.00910006,   0.90579194,   6.84179316],\n",
       "       [  1.        ,   3.68868231,   0.12698682,  17.44004291],\n",
       "       ..., \n",
       "       [  1.        ,   2.9251931 ,   0.70619143,  15.00293142],\n",
       "       [  1.        ,   6.3353976 ,   0.5352059 ,   0.39154996],\n",
       "       [  1.        ,   5.62450812,   0.19321104,  15.10334281]])"
      ]
     },
     "execution_count": 527,
     "metadata": {},
     "output_type": "execute_result"
    }
   ],
   "source": [
    "x"
   ]
  },
  {
   "cell_type": "markdown",
   "metadata": {},
   "source": [
    "###  Question 3.b)"
   ]
  },
  {
   "cell_type": "code",
   "execution_count": 528,
   "metadata": {
    "collapsed": true
   },
   "outputs": [],
   "source": [
    "def LossFunc(x,y,b):\n",
    "    loss = np.log(1+np.exp(np.dot(x,b))) - np.multiply(y,np.dot(x,b))\n",
    "    return np.mean(loss)\n"
   ]
  },
  {
   "cell_type": "code",
   "execution_count": 529,
   "metadata": {
    "collapsed": true
   },
   "outputs": [],
   "source": [
    "def grad(x,y,b):\n",
    "    temp = 1/(1+np.exp(-1*(np.dot(x,b)))) - y\n",
    "    deriv = np.multiply(temp, x)\n",
    "    return np.mean(deriv, axis=0).reshape((4,1))"
   ]
  },
  {
   "cell_type": "code",
   "execution_count": 530,
   "metadata": {
    "collapsed": true
   },
   "outputs": [],
   "source": [
    "def backtrack_ls(loss,x,y,b):\n",
    "   \n",
    "    gradient = grad(x,y,b)\n",
    "    gradient2= np.dot(gradient.T,gradient)\n",
    "    #initial step size\n",
    "    a=1\n",
    "    while(LossFunc(x,y,b-a*gradient) > loss - 0.5*a*gradient2):\n",
    "        a = a/2\n",
    "        \n",
    "    return a"
   ]
  },
  {
   "cell_type": "code",
   "execution_count": 531,
   "metadata": {
    "collapsed": true
   },
   "outputs": [],
   "source": [
    "b = np.zeros((4,1))\n",
    "#b"
   ]
  },
  {
   "cell_type": "code",
   "execution_count": 532,
   "metadata": {
    "collapsed": true
   },
   "outputs": [],
   "source": [
    "\n",
    "loss = LossFunc(x,y,b)\n",
    "#iniialize\n",
    "alpha = 1\n",
    "count = 0\n",
    "while loss>=0.65064:\n",
    "\n",
    "    alpha = backtrack_ls(loss,x,y,b)\n",
    "    count = count + 1\n",
    "    b = b - alpha*grad(x,y,b)\n",
    "    loss = LossFunc(x,y,b)\n",
    " \n",
    "    \n"
   ]
  },
  {
   "cell_type": "code",
   "execution_count": 533,
   "metadata": {},
   "outputs": [
    {
     "name": "stdout",
     "output_type": "stream",
     "text": [
      "Number of iterations needed:\n"
     ]
    },
    {
     "data": {
      "text/plain": [
       "4658"
      ]
     },
     "execution_count": 533,
     "metadata": {},
     "output_type": "execute_result"
    }
   ],
   "source": [
    "print(\"Number of iterations needed:\")\n",
    "count"
   ]
  },
  {
   "cell_type": "markdown",
   "metadata": {},
   "source": [
    "### Question 3.c)"
   ]
  },
  {
   "cell_type": "code",
   "execution_count": 534,
   "metadata": {
    "collapsed": true
   },
   "outputs": [],
   "source": [
    "features = pd.DataFrame(x)\n",
    "#features"
   ]
  },
  {
   "cell_type": "code",
   "execution_count": 535,
   "metadata": {},
   "outputs": [
    {
     "data": {
      "text/plain": [
       "(array([1, 2, 3, 4]), <a list of 4 Text xticklabel objects>)"
      ]
     },
     "execution_count": 535,
     "metadata": {},
     "output_type": "execute_result"
    },
    {
     "data": {
      "image/png": "[encoded data removed]",
      "text/plain": [
       "<matplotlib.figure.Figure at 0x181d6dada0>"
      ]
     },
     "metadata": {},
     "output_type": "display_data"
    }
   ],
   "source": [
    "%matplotlib inline\n",
    "import matplotlib.pyplot as plt\n",
    "features.boxplot()\n",
    "plt.xticks( rotation=30, ha=\"right\")"
   ]
  },
  {
   "cell_type": "code",
   "execution_count": 536,
   "metadata": {},
   "outputs": [
    {
     "data": {
      "text/html": [
       "<div>\n",
       "<style>\n",
       "    .dataframe thead tr:only-child th {\n",
       "        text-align: right;\n",
       "    }\n",
       "\n",
       "    .dataframe thead th {\n",
       "        text-align: left;\n",
       "    }\n",
       "\n",
       "    .dataframe tbody tr th {\n",
       "        vertical-align: top;\n",
       "    }\n",
       "</style>\n",
       "<table border=\"1\" class=\"dataframe\">\n",
       "  <thead>\n",
       "    <tr style=\"text-align: right;\">\n",
       "      <th></th>\n",
       "      <th>0</th>\n",
       "      <th>1</th>\n",
       "      <th>2</th>\n",
       "      <th>3</th>\n",
       "    </tr>\n",
       "  </thead>\n",
       "  <tbody>\n",
       "    <tr>\n",
       "      <th>count</th>\n",
       "      <td>4096.0</td>\n",
       "      <td>4096.000000</td>\n",
       "      <td>4096.000000</td>\n",
       "      <td>4096.000000</td>\n",
       "    </tr>\n",
       "    <tr>\n",
       "      <th>mean</th>\n",
       "      <td>1.0</td>\n",
       "      <td>9.920418</td>\n",
       "      <td>0.505989</td>\n",
       "      <td>9.926479</td>\n",
       "    </tr>\n",
       "    <tr>\n",
       "      <th>std</th>\n",
       "      <td>0.0</td>\n",
       "      <td>5.745950</td>\n",
       "      <td>0.286350</td>\n",
       "      <td>5.793278</td>\n",
       "    </tr>\n",
       "    <tr>\n",
       "      <th>min</th>\n",
       "      <td>1.0</td>\n",
       "      <td>0.001780</td>\n",
       "      <td>0.000341</td>\n",
       "      <td>0.001405</td>\n",
       "    </tr>\n",
       "    <tr>\n",
       "      <th>25%</th>\n",
       "      <td>1.0</td>\n",
       "      <td>5.020690</td>\n",
       "      <td>0.256358</td>\n",
       "      <td>4.918141</td>\n",
       "    </tr>\n",
       "    <tr>\n",
       "      <th>50%</th>\n",
       "      <td>1.0</td>\n",
       "      <td>9.992839</td>\n",
       "      <td>0.510126</td>\n",
       "      <td>9.895873</td>\n",
       "    </tr>\n",
       "    <tr>\n",
       "      <th>75%</th>\n",
       "      <td>1.0</td>\n",
       "      <td>14.892801</td>\n",
       "      <td>0.751045</td>\n",
       "      <td>14.937338</td>\n",
       "    </tr>\n",
       "    <tr>\n",
       "      <th>max</th>\n",
       "      <td>1.0</td>\n",
       "      <td>19.993388</td>\n",
       "      <td>0.999793</td>\n",
       "      <td>19.988979</td>\n",
       "    </tr>\n",
       "  </tbody>\n",
       "</table>\n",
       "</div>"
      ],
      "text/plain": [
       "            0            1            2            3\n",
       "count  4096.0  4096.000000  4096.000000  4096.000000\n",
       "mean      1.0     9.920418     0.505989     9.926479\n",
       "std       0.0     5.745950     0.286350     5.793278\n",
       "min       1.0     0.001780     0.000341     0.001405\n",
       "25%       1.0     5.020690     0.256358     4.918141\n",
       "50%       1.0     9.992839     0.510126     9.895873\n",
       "75%       1.0    14.892801     0.751045    14.937338\n",
       "max       1.0    19.993388     0.999793    19.988979"
      ]
     },
     "execution_count": 536,
     "metadata": {},
     "output_type": "execute_result"
    }
   ],
   "source": [
    "features.describe()"
   ]
  },
  {
   "cell_type": "code",
   "execution_count": 537,
   "metadata": {
    "collapsed": true
   },
   "outputs": [],
   "source": [
    "transformed_x = x\n",
    "transformed_x[:,1] = (transformed_x[:,1])/np.std(x[:,1])\n",
    "transformed_x[:,2] = (transformed_x[:,2])/np.std(x[:,2])\n",
    "transformed_x[:,3] = (transformed_x[:,3])/np.std(x[:,3])"
   ]
  },
  {
   "cell_type": "code",
   "execution_count": 538,
   "metadata": {
    "collapsed": true
   },
   "outputs": [],
   "source": [
    "f = pd.DataFrame(transformed_x)"
   ]
  },
  {
   "cell_type": "code",
   "execution_count": 539,
   "metadata": {},
   "outputs": [
    {
     "data": {
      "text/plain": [
       "(array([1, 2, 3, 4]), <a list of 4 Text xticklabel objects>)"
      ]
     },
     "execution_count": 539,
     "metadata": {},
     "output_type": "execute_result"
    },
    {
     "data": {
      "image/png": "[encoded data removed]",
      "text/plain": [
       "<matplotlib.figure.Figure at 0x181d073828>"
      ]
     },
     "metadata": {},
     "output_type": "display_data"
    }
   ],
   "source": [
    "%matplotlib inline\n",
    "import matplotlib.pyplot as plt\n",
    "f.boxplot()\n",
    "plt.xticks( rotation=30, ha=\"right\")"
   ]
  },
  {
   "cell_type": "code",
   "execution_count": 540,
   "metadata": {
    "collapsed": true
   },
   "outputs": [],
   "source": [
    "b.fill(0)"
   ]
  },
  {
   "cell_type": "code",
   "execution_count": 541,
   "metadata": {
    "collapsed": true
   },
   "outputs": [],
   "source": [
    "\n",
    "loss = LossFunc(transformed_x,y,b)\n",
    "#initialize\n",
    "alpha = 1\n",
    "count = 0\n",
    "\n",
    "while loss>=0.65064:\n",
    "    \n",
    "    alpha = backtrack_ls(loss,transformed_x,y,b)\n",
    "    count = count + 1\n",
    "    b = b - alpha*grad(transformed_x,y,b)\n",
    "    loss = LossFunc(transformed_x,y,b)\n"
   ]
  },
  {
   "cell_type": "code",
   "execution_count": 542,
   "metadata": {},
   "outputs": [
    {
     "data": {
      "text/plain": [
       "214"
      ]
     },
     "execution_count": 542,
     "metadata": {},
     "output_type": "execute_result"
    }
   ],
   "source": [
    "count"
   ]
  },
  {
   "cell_type": "markdown",
   "metadata": {},
   "source": [
    "### Question 3.d)"
   ]
  },
  {
   "cell_type": "code",
   "execution_count": 543,
   "metadata": {},
   "outputs": [
    {
     "data": {
      "text/plain": [
       "array([[  1.        ,  13.78870202,   0.81472369,  16.40247248],\n",
       "       [  1.        ,   1.00910006,   0.90579194,   6.84179316],\n",
       "       [  1.        ,   3.68868231,   0.12698682,  17.44004291],\n",
       "       ..., \n",
       "       [  1.        ,   2.9251931 ,   0.70619143,  15.00293142],\n",
       "       [  1.        ,   6.3353976 ,   0.5352059 ,   0.39154996],\n",
       "       [  1.        ,   5.62450812,   0.19321104,  15.10334281]])"
      ]
     },
     "execution_count": 543,
     "metadata": {},
     "output_type": "execute_result"
    }
   ],
   "source": [
    "temp_x = data[\"data\"]\n",
    "x = np.insert(temp_x, 0, 1, axis=1)\n",
    "x"
   ]
  },
  {
   "cell_type": "code",
   "execution_count": 544,
   "metadata": {
    "collapsed": true
   },
   "outputs": [],
   "source": [
    "x_train = x[:int(0.8*4096), :]\n",
    "x_val = x[int(0.8*4096):, :]\n",
    "\n",
    "y_train = y[:int(0.8*4096), :]\n",
    "y_val = y[int(0.8*4096):, :]"
   ]
  },
  {
   "cell_type": "code",
   "execution_count": 545,
   "metadata": {
    "collapsed": true
   },
   "outputs": [],
   "source": [
    "transformed_x_train = transformed_x[:int(0.8*4096), :]\n",
    "transformed_x_val = transformed_x[int(0.8*4096):, :]"
   ]
  },
  {
   "cell_type": "markdown",
   "metadata": {},
   "source": [
    "### Modified gradient Descent on the original dataset"
   ]
  },
  {
   "cell_type": "code",
   "execution_count": 546,
   "metadata": {
    "collapsed": true
   },
   "outputs": [],
   "source": [
    "b.fill(0)"
   ]
  },
  {
   "cell_type": "code",
   "execution_count": 547,
   "metadata": {},
   "outputs": [
    {
     "data": {
      "text/plain": [
       "False"
      ]
     },
     "execution_count": 547,
     "metadata": {},
     "output_type": "execute_result"
    }
   ],
   "source": [
    "def power_2(n):\n",
    "     n = n/2\n",
    "    if n == 2:\n",
    "        return True\n",
    "    elif n > 2:\n",
    "        return is_power(n)\n",
    "    else:\n",
    "        return False\n",
    "power_2(17)"
   ]
  },
  {
   "cell_type": "code",
   "execution_count": 548,
   "metadata": {},
   "outputs": [
    {
     "name": "stdout",
     "output_type": "stream",
     "text": [
      "0.5292682926829269\n",
      "0.525609756097561\n",
      "0.4975609756097561\n",
      "0.49878048780487805\n",
      "0.5048780487804878\n",
      "0.4658536585365854\n",
      "0.4073170731707317\n",
      "0.3926829268292683\n",
      "0.37926829268292683\n",
      "0.3829268292682927\n"
     ]
    }
   ],
   "source": [
    "step = 1\n",
    "count = 0\n",
    "loss = LossFunc(x_train,y_train,b)\n",
    "valid_loss = LossFunc(x_val,y_val,b)\n",
    "best = 100\n",
    "\n",
    "while True:\n",
    "\n",
    "    step = backtrack_ls(loss,x_train,y_train, b)\n",
    "    count += 1\n",
    "    \n",
    "    b = b - step*grad(x_train,y_train,b)\n",
    "    \n",
    "    loss = LossFunc(x_train, y_train,b)     \n",
    "                    \n",
    "    if power_2(count):\n",
    "        m = np.dot(x_val,b)>=0\n",
    "        n = [int(i) for i in m]\n",
    "        e= [1 if y_val[i,0]!=n[i] else 0 for i in range(len(n)) ]\n",
    "        err = sum(e)/len(e)\n",
    "\n",
    "        print(err)\n",
    "\n",
    "        if err>0.99*best and count >=32:\n",
    "            obj = LossFunc(x_train,y_train,b)\n",
    "            break\n",
    "\n",
    "        best= min(best, err)\n",
    "   "
   ]
  },
  {
   "cell_type": "code",
   "execution_count": 549,
   "metadata": {},
   "outputs": [
    {
     "data": {
      "text/plain": [
       "512"
      ]
     },
     "execution_count": 549,
     "metadata": {},
     "output_type": "execute_result"
    }
   ],
   "source": [
    "count"
   ]
  },
  {
   "cell_type": "code",
   "execution_count": 550,
   "metadata": {},
   "outputs": [
    {
     "data": {
      "text/plain": [
       "0.65506962345974018"
      ]
     },
     "execution_count": 550,
     "metadata": {},
     "output_type": "execute_result"
    }
   ],
   "source": [
    "loss"
   ]
  },
  {
   "cell_type": "code",
   "execution_count": 551,
   "metadata": {},
   "outputs": [
    {
     "data": {
      "text/plain": [
       "0.3829268292682927"
      ]
     },
     "execution_count": 551,
     "metadata": {},
     "output_type": "execute_result"
    }
   ],
   "source": [
    "error"
   ]
  },
  {
   "cell_type": "markdown",
   "metadata": {},
   "source": [
    "### Modified gradient Descent on the linearly tranformed data"
   ]
  },
  {
   "cell_type": "code",
   "execution_count": 552,
   "metadata": {
    "collapsed": true
   },
   "outputs": [],
   "source": [
    "b.fill(0)"
   ]
  },
  {
   "cell_type": "code",
   "execution_count": 553,
   "metadata": {},
   "outputs": [
    {
     "name": "stdout",
     "output_type": "stream",
     "text": [
      "0.48048780487804876\n",
      "0.38658536585365855\n",
      "0.3853658536585366\n",
      "0.38414634146341464\n",
      "0.38414634146341464\n",
      "0.375609756097561\n",
      "0.3878048780487805\n"
     ]
    }
   ],
   "source": [
    "step = 1\n",
    "count = 0\n",
    "loss = LossFunc(transformed_x_train,y_train,b)\n",
    "valid_loss = LossFunc(transformed_x_val,y_val,b)\n",
    "best = 100\n",
    "\n",
    "while True:\n",
    "  \n",
    "   step = backtrack_ls(loss,transformed_x_train,y_train, b)\n",
    "    count += 1\n",
    "    \n",
    "    b = b - step*grad(transformed_x_train,y_train,b)\n",
    "    \n",
    "    loss = LossFunc(transformed_x_train, y_train,b)     \n",
    "                    \n",
    "    if power_2(count):\n",
    "        m = np.dot(transformed_x_val,b)>=0\n",
    "        n = [int(i) for i in m]\n",
    "\n",
    "        e= [1 if y_val[i,0]!=n[i] else 0 for i in range(len(n)) ]\n",
    "        err = sum(e)/len(e)\n",
    "\n",
    "        print(err)\n",
    "\n",
    "        if err>0.99*best and count >=32:\n",
    "            obj = LossFunc(transformed_x_train,y_train,b)\n",
    "            break\n",
    "\n",
    "        best= min(best, err)"
   ]
  },
  {
   "cell_type": "code",
   "execution_count": 554,
   "metadata": {},
   "outputs": [
    {
     "data": {
      "text/plain": [
       "64"
      ]
     },
     "execution_count": 554,
     "metadata": {},
     "output_type": "execute_result"
    }
   ],
   "source": [
    "count"
   ]
  },
  {
   "cell_type": "code",
   "execution_count": 555,
   "metadata": {},
   "outputs": [
    {
     "data": {
      "text/plain": [
       "0.65116057638827773"
      ]
     },
     "execution_count": 555,
     "metadata": {},
     "output_type": "execute_result"
    }
   ],
   "source": [
    "loss"
   ]
  },
  {
   "cell_type": "code",
   "execution_count": 556,
   "metadata": {},
   "outputs": [
    {
     "data": {
      "text/plain": [
       "0.3878048780487805"
      ]
     },
     "execution_count": 556,
     "metadata": {},
     "output_type": "execute_result"
    }
   ],
   "source": [
    "error"
   ]
  },
  {
   "cell_type": "code",
   "execution_count": null,
   "metadata": {
    "collapsed": true
   },
   "outputs": [],
   "source": []
  }
 ],
 "metadata": {
  "kernelspec": {
   "display_name": "Python 3",
   "language": "python",
   "name": "python3"
  },
  "language_info": {
   "codemirror_mode": {
    "name": "ipython",
    "version": 3
   },
   "file_extension": ".py",
   "mimetype": "text/x-python",
   "name": "python",
   "nbconvert_exporter": "python",
   "pygments_lexer": "ipython3",
   "version": "3.6.3"
  }
 },
 "nbformat": 4,
 "nbformat_minor": 2
}
