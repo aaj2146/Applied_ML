{
 "cells": [
  {
   "cell_type": "code",
   "execution_count": 1,
   "metadata": {
    "collapsed": true
   },
   "outputs": [],
   "source": [
    "import numpy as np\n",
    "\n",
    "#Integer Division function\n",
    "def intdiv(x,y):\n",
    "    return x/float(y)\n",
    "\n",
    "#Numpy division function\n",
    "def numdiv(x,y):\n",
    "    return np.array([x])/np.array([float(y)])\n",
    "\n",
    "def test_intdiv():\n",
    "    assert intdiv(2,8) == 0.25\n",
    "    \n",
    "def test_numdiv():\n",
    "    assert numdiv(2,8) == 0.25"
   ]
  },
  {
   "cell_type": "code",
   "execution_count": 2,
   "metadata": {
    "collapsed": true
   },
   "outputs": [],
   "source": [
    "import io\n",
    "def charcount(x):\n",
    "    \n",
    "    with io.open(x) as infile:\n",
    "        words = 0\n",
    "        characters = 0\n",
    "        for lineo,line in enumerate(infile,1):\n",
    "            wordslist = line.split()\n",
    "            words += len(wordslist)\n",
    "            characters += sum(len(word) for word in wordslist)\n",
    "            \n",
    "            \n",
    "        return characters\n",
    "\n",
    "def test_charcount():\n",
    "    assert charac_count('input.txt') == 6"
   ]
  },
  {
   "cell_type": "code",
   "execution_count": 3,
   "metadata": {},
   "outputs": [
    {
     "data": {
      "text/plain": [
       "6"
      ]
     },
     "execution_count": 3,
     "metadata": {},
     "output_type": "execute_result"
    }
   ],
   "source": [
    "charcount('input.txt')"
   ]
  },
  {
   "cell_type": "code",
   "execution_count": 4,
   "metadata": {},
   "outputs": [
    {
     "data": {
      "text/plain": [
       "<module 'pytest' from '/home/adi/.conda/envs/algos_asn/lib/python2.7/site-packages/pytest.pyc'>"
      ]
     },
     "execution_count": 4,
     "metadata": {},
     "output_type": "execute_result"
    }
   ],
   "source": [
    "import pytest\n",
    "pytest test_char"
   ]
  },
  {
   "cell_type": "code",
   "execution_count": null,
   "metadata": {
    "collapsed": true
   },
   "outputs": [],
   "source": []
  }
 ],
 "metadata": {
  "kernelspec": {
   "display_name": "Python [conda env:algos_asn]",
   "language": "python",
   "name": "conda-env-algos_asn-py"
  },
  "language_info": {
   "codemirror_mode": {
    "name": "ipython",
    "version": 2
   },
   "file_extension": ".py",
   "mimetype": "text/x-python",
   "name": "python",
   "nbconvert_exporter": "python",
   "pygments_lexer": "ipython2",
   "version": "2.7.13"
  }
 },
 "nbformat": 4,
 "nbformat_minor": 2
}
