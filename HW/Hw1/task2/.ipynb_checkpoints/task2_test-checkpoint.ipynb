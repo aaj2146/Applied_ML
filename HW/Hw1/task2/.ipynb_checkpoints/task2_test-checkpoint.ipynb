{
 "cells": [
  {
   "cell_type": "code",
   "execution_count": 1,
   "metadata": {
    "collapsed": true
   },
   "outputs": [],
   "source": [
    "def inc(x):\n",
    "    return x+2\n",
    "\n",
    "def test_inc():\n",
    "    assert inc(2)==3"
   ]
  },
  {
   "cell_type": "code",
   "execution_count": 9,
   "metadata": {},
   "outputs": [
    {
     "name": "stdout",
     "output_type": "stream",
     "text": [
      "1\n",
      "1\n",
      "6\n"
     ]
    }
   ],
   "source": [
    "import sys\n",
    "\n",
    "cur_version = sys.version_info\n",
    "\n",
    "\n",
    "\n",
    "\n",
    "with open('input.txt') as infile:\n",
    "    words = 0\n",
    "    characters = 0\n",
    "    for lineno, line in enumerate(infile, 1):\n",
    "        wordslist = line.split()\n",
    "        words += len(wordslist)\n",
    "        if(cur_version.major == 3):\n",
    "            characters += sum(len(word) for word in wordslist)\n",
    "            #return characters\n",
    "        else:\n",
    "            #print '2'\n",
    "            characters += sum(len(word.decode('utf-8')) for word in wordslist)\n",
    "            #return characters\n",
    "            \n",
    "\n",
    "print(lineno)\n",
    "print(words)\n",
    "print(characters)"
   ]
  },
  {
   "cell_type": "code",
   "execution_count": null,
   "metadata": {},
   "outputs": [],
   "source": []
  },
  {
   "cell_type": "code",
   "execution_count": 3,
   "metadata": {},
   "outputs": [],
   "source": [
    "import io\n",
    "def charcount(x):\n",
    "    \n",
    "    with io.open(x) as infile:\n",
    "        words = 0\n",
    "        characters = 0\n",
    "        for lineo,line in enumerate(infile,1):\n",
    "            wordslist = line.split()\n",
    "            words += len(wordslist)\n",
    "            characters += sum(len(word) for word in wordslist)\n",
    "            \n",
    "            \n",
    "        return characters\n",
    "\n",
    "def test_charcount():\n",
    "    assert charac_count('input.txt') == 6\n",
    "    \n"
   ]
  },
  {
   "cell_type": "code",
   "execution_count": 4,
   "metadata": {},
   "outputs": [
    {
     "data": {
      "text/plain": [
       "6"
      ]
     },
     "execution_count": 4,
     "metadata": {},
     "output_type": "execute_result"
    }
   ],
   "source": [
    "charac_count('input.txt')"
   ]
  },
  {
   "cell_type": "code",
   "execution_count": 28,
   "metadata": {},
   "outputs": [
    {
     "data": {
      "text/plain": [
       "array([ 0.25])"
      ]
     },
     "execution_count": 28,
     "metadata": {},
     "output_type": "execute_result"
    }
   ],
   "source": [
    "import numpy as np\n",
    "\n",
    "#Integer Division function\n",
    "def int_divi(x,y):\n",
    "    return x/float(y)\n",
    "\n",
    "#Numpy division function\n",
    "def numpy_div(x,y):\n",
    "    return np.array([x])/np.array([float(y)])\n",
    "\n",
    "def test_int():\n",
    "    assert int_divi(2,8) == 0.25\n",
    "    \n",
    "def test_np():\n",
    "    return numpy_div(2,8) == 0.25\n",
    "\n",
    "numpy_div(2,8)"
   ]
  }
 ],
 "metadata": {
  "kernelspec": {
   "display_name": "Python [conda env:dlcourse]",
   "language": "python",
   "name": "conda-env-dlcourse-py"
  },
  "language_info": {
   "codemirror_mode": {
    "name": "ipython",
    "version": 3
   },
   "file_extension": ".py",
   "mimetype": "text/x-python",
   "name": "python",
   "nbconvert_exporter": "python",
   "pygments_lexer": "ipython3",
   "version": "3.5.4"
  }
 },
 "nbformat": 4,
 "nbformat_minor": 2
}
