{
 "cells": [
  {
   "cell_type": "code",
   "execution_count": 1,
   "metadata": {
    "collapsed": true
   },
   "outputs": [],
   "source": [
    "import numpy as np\n",
    "import pandas as pd\n",
    "import matplotlib.pyplot as plt\n",
    "%matplotlib inline\n",
    "from sklearn.datasets import  fetch_covtype\n",
    "import seaborn as sns\n",
    "sns.set(color_codes=True)\n",
    "from sklearn.model_selection import train_test_split\n",
    "from sklearn.model_selection import cross_val_score\n",
    "from sklearn.preprocessing import StandardScaler\n",
    "from sklearn.model_selection import GridSearchCV\n",
    "from sklearn.linear_model import LogisticRegression, LogisticRegressionCV\n",
    "from sklearn.svm import LinearSVC\n",
    "from sklearn.neighbors.nearest_centroid import NearestCentroid\n",
    "import warnings\n",
    "from sklearn.model_selection import KFold\n",
    "warnings.filterwarnings('ignore')"
   ]
  },
  {
   "cell_type": "code",
   "execution_count": 2,
   "metadata": {},
   "outputs": [
    {
     "data": {
      "text/plain": [
       "{'DESCR': 'Forest covertype dataset.\\n\\nA classic dataset for classification benchmarks, featuring categorical and\\nreal-valued features.\\n\\nThe dataset page is available from UCI Machine Learning Repository\\n\\n    http://archive.ics.uci.edu/ml/datasets/Covertype\\n\\nCourtesy of Jock A. Blackard and Colorado State University.\\n',\n",
       " 'data': array([[  2.59600000e+03,   5.10000000e+01,   3.00000000e+00, ...,\n",
       "           0.00000000e+00,   0.00000000e+00,   0.00000000e+00],\n",
       "        [  2.59000000e+03,   5.60000000e+01,   2.00000000e+00, ...,\n",
       "           0.00000000e+00,   0.00000000e+00,   0.00000000e+00],\n",
       "        [  2.80400000e+03,   1.39000000e+02,   9.00000000e+00, ...,\n",
       "           0.00000000e+00,   0.00000000e+00,   0.00000000e+00],\n",
       "        ..., \n",
       "        [  2.38600000e+03,   1.59000000e+02,   1.70000000e+01, ...,\n",
       "           0.00000000e+00,   0.00000000e+00,   0.00000000e+00],\n",
       "        [  2.38400000e+03,   1.70000000e+02,   1.50000000e+01, ...,\n",
       "           0.00000000e+00,   0.00000000e+00,   0.00000000e+00],\n",
       "        [  2.38300000e+03,   1.65000000e+02,   1.30000000e+01, ...,\n",
       "           0.00000000e+00,   0.00000000e+00,   0.00000000e+00]]),\n",
       " 'target': array([5, 5, 2, ..., 3, 3, 3], dtype=int32)}"
      ]
     },
     "execution_count": 2,
     "metadata": {},
     "output_type": "execute_result"
    }
   ],
   "source": [
    "cov_data = fetch_covtype()\n",
    "cov_data"
   ]
  },
  {
   "cell_type": "code",
   "execution_count": 3,
   "metadata": {},
   "outputs": [
    {
     "ename": "NameError",
     "evalue": "name 'cov' is not defined",
     "output_type": "error",
     "traceback": [
      "\u001b[0;31m---------------------------------------------------------------------------\u001b[0m",
      "\u001b[0;31mNameError\u001b[0m                                 Traceback (most recent call last)",
      "\u001b[0;32m<ipython-input-3-329a36ddec2d>\u001b[0m in \u001b[0;36m<module>\u001b[0;34m()\u001b[0m\n\u001b[0;32m----> 1\u001b[0;31m \u001b[0mprint\u001b[0m \u001b[0;34m(\u001b[0m\u001b[0mcov\u001b[0m\u001b[0;34m.\u001b[0m\u001b[0mshape\u001b[0m\u001b[0;34m)\u001b[0m\u001b[0;34m\u001b[0m\u001b[0m\n\u001b[0m\u001b[1;32m      2\u001b[0m \u001b[0mprint\u001b[0m \u001b[0;34m(\u001b[0m\u001b[0mcover_type\u001b[0m\u001b[0;34m.\u001b[0m\u001b[0mshape\u001b[0m\u001b[0;34m)\u001b[0m\u001b[0;34m\u001b[0m\u001b[0m\n",
      "\u001b[0;31mNameError\u001b[0m: name 'cov' is not defined"
     ]
    }
   ],
   "source": [
    "print (cov.shape)\n",
    "print (cover_type.shape)"
   ]
  },
  {
   "cell_type": "code",
   "execution_count": null,
   "metadata": {
    "collapsed": true
   },
   "outputs": [],
   "source": [
    "cov_cols = ['Elevation','Aspect','Slope','Horizontal_Distance_To_Hydrology','Vertical_Distance_To_Hydrology',\n",
    "           'Horizontal_Distance_To_Roadways','Hillshade_9am','Hillshade_Noon',\n",
    "            'Hillshade_3pm','Horizontal_Distance_To_Fire_Points']"
   ]
  },
  {
   "cell_type": "code",
   "execution_count": null,
   "metadata": {
    "collapsed": true
   },
   "outputs": [],
   "source": [
    "for i in range(1,5):\n",
    "    x = 'Wilderness_Area_'+str(i)\n",
    "    cov_cols.append(x)"
   ]
  },
  {
   "cell_type": "code",
   "execution_count": null,
   "metadata": {
    "collapsed": true
   },
   "outputs": [],
   "source": [
    "for i in range(1,41):\n",
    "    x = 'Soil_Type'+str(i)\n",
    "    cov_cols.append(x)"
   ]
  },
  {
   "cell_type": "code",
   "execution_count": null,
   "metadata": {},
   "outputs": [],
   "source": [
    "len(cov_cols)"
   ]
  },
  {
   "cell_type": "code",
   "execution_count": null,
   "metadata": {
    "collapsed": true
   },
   "outputs": [],
   "source": [
    "cov = pd.DataFrame(cov_data.data, columns = cov_cols)\n",
    "cover_type = pd.DataFrame(cov_data.target, columns = ['cov_type'])\n",
    "#cov.columns\n",
    "#cover_type"
   ]
  },
  {
   "cell_type": "markdown",
   "metadata": {},
   "source": [
    "## 2.1"
   ]
  },
  {
   "cell_type": "code",
   "execution_count": null,
   "metadata": {},
   "outputs": [],
   "source": [
    "fig = plt.figure(figsize=(5,100))\n",
    "\n",
    "for i in range(1,55):\n",
    "    #print (i)\n",
    "    fig.add_subplot(55,1,i)\n",
    "    plt.hist(cov.iloc[:,i-1])\n",
    "    plt.xlabel(cov_cols[i-1])\n",
    "    plt.tight_layout()\n",
    "\n",
    "fig.add_subplot(55,1,55)\n",
    "plt.hist(cover_type.iloc[:,0])\n",
    "plt.xlabel('cover type')\n",
    "plt.tight_layout()\n",
    "\n",
    "plt.show()\n"
   ]
  },
  {
   "cell_type": "markdown",
   "metadata": {},
   "source": [
    "2.2 Split data into training and test set. Evaluate Logistic Regression, linear support vector\n",
    "machines and nearest centroids using cross-validation. How different are the results? How does\n",
    "scaling the data with StandardScaler influence the results?"
   ]
  },
  {
   "cell_type": "code",
   "execution_count": null,
   "metadata": {
    "collapsed": true
   },
   "outputs": [],
   "source": [
    "X_train, X_test, y_train, y_test = train_test_split(cov, cover_type, random_state=0)"
   ]
  },
  {
   "cell_type": "code",
   "execution_count": null,
   "metadata": {},
   "outputs": [],
   "source": [
    "lr_score = np.mean(cross_val_score(LogisticRegressionCV(multi_class='multinomial', dual=False, \n",
    "                                                        solver='lbfgs', tol=0.001,n_jobs=-1), X_train, y_train, cv = 3)) \n",
    "#logistic regression with 3 folds \n",
    "svm_score = np.mean(cross_val_score(LinearSVC(dual=False,tol=0.001), X_train, y_train, cv=3))#svm with 3 folds\n",
    "nc_score = np.mean(cross_val_score(NearestCentroid(), X_train, y_train, cv=3))#nearest centroid with 3 folds"
   ]
  },
  {
   "cell_type": "code",
   "execution_count": null,
   "metadata": {
    "collapsed": true
   },
   "outputs": [],
   "source": [
    "#scores output\n",
    "print ('Mean CV score - Logistic Regression = {:.3f}'.format(lr_score))\n",
    "print ('Mean CV score - linear support vector machines = {:.3f}'.format(svm_score))\n",
    "print ('Mean CV score - nearest centroids = {:.3f}'.format(nc_score))"
   ]
  },
  {
   "cell_type": "code",
   "execution_count": null,
   "metadata": {
    "collapsed": true
   },
   "outputs": [],
   "source": [
    "scaler = StandardScaler()\n",
    "scaler.fit(X_train) #fitting scaler\n",
    "X_train_scaled = scaler.transform(X_train) #transforming train data\n",
    "\n",
    "X_test_scaled = scaler.transform(X_test) #transforming test data"
   ]
  },
  {
   "cell_type": "code",
   "execution_count": null,
   "metadata": {
    "collapsed": true
   },
   "outputs": [],
   "source": [
    "#logistic regression cv on scaled data\n",
    "lr_score2 = np.mean(cross_val_score(LogisticRegressionCV(multi_class='multinomial', dual=False,\n",
    "                                                         solver='lbfgs', tol=0.001,n_jobs=-1), \n",
    "                                    X_train_scaled, y_train, cv = 3))\n",
    "#svm with 3 folds\n",
    "svm_score2 = np.mean(cross_val_score(LinearSVC(dual=False,tol=0.001), X_train_scaled, y_train, cv=3))\n",
    "#nearest centroid with 3 folds\n",
    "nc_score2 = np.mean(cross_val_score(NearestCentroid(), X_train_scaled, y_train, cv=3))"
   ]
  },
  {
   "cell_type": "code",
   "execution_count": null,
   "metadata": {
    "collapsed": true
   },
   "outputs": [],
   "source": [
    "print ('Mean CV score - Logistic Regression = {:.3f}'.format(lr_score2))\n",
    "print ('Mean CV score - linear support vector machines = {:.3f}'.format(svm_score2))\n",
    "print ('Mean CV score - nearest centroids = {:.3f}'.format(nc_score2))"
   ]
  },
  {
   "cell_type": "markdown",
   "metadata": {},
   "source": [
    "# 2.3"
   ]
  },
  {
   "cell_type": "markdown",
   "metadata": {},
   "source": [
    "Tune the parameters using GridSearchCV. Do the results improve?\n",
    "Visualize the performance as function of the parameters for all three models."
   ]
  },
  {
   "cell_type": "code",
   "execution_count": null,
   "metadata": {
    "collapsed": true
   },
   "outputs": [],
   "source": [
    "#grid search for logistic regression\n",
    "param_grid_lr = [{'C': [0.01, 1, 10, 100, 1000]}]\n",
    "grid_lr = GridSearchCV(LogisticRegressionCV(multi_class='multinomial', dual=False,solver='lbfgs', tol=0.001,\n",
    "                                            n_jobs=-1), param_grid_lr, cv = 3)\n",
    "grid_lr.fit(X_train,y_train)"
   ]
  },
  {
   "cell_type": "code",
   "execution_count": null,
   "metadata": {
    "collapsed": true
   },
   "outputs": [],
   "source": [
    "print('Logistic Regression - Best Parameters :',grid_lr.best_params_)\n",
    "print('Logistic Regression - Best Score :{:.4f}'.format(grid_lr.best_score_))"
   ]
  },
  {
   "cell_type": "code",
   "execution_count": null,
   "metadata": {
    "collapsed": true
   },
   "outputs": [],
   "source": [
    "results_lr = pd.DataFrame(grid_lr.cv_results_)\n",
    "results_lr"
   ]
  },
  {
   "cell_type": "code",
   "execution_count": null,
   "metadata": {
    "collapsed": true
   },
   "outputs": [],
   "source": [
    "#grid search for svc\n",
    "param_grid_svc = [{'C': [0.01, 1, 10, 100, 1000]}]\n",
    "grid_svc = GridSearchCV(LinearSVC(dual=False, tol=0.001), param_grid_svc, cv = 3)\n",
    "grid_svc.fit(X_train,y_train)"
   ]
  },
  {
   "cell_type": "code",
   "execution_count": null,
   "metadata": {
    "collapsed": true
   },
   "outputs": [],
   "source": [
    "print('Linear SVC - Best Parameters :',grid_svc.best_params_)\n",
    "print('Linear SVC - Best Score :{:.4f}'.format(grid_svc.best_score_))"
   ]
  },
  {
   "cell_type": "code",
   "execution_count": null,
   "metadata": {
    "collapsed": true
   },
   "outputs": [],
   "source": [
    "results_svc = pd.DataFrame(grid_svc.cv_results_)\n",
    "results_svc"
   ]
  },
  {
   "cell_type": "code",
   "execution_count": null,
   "metadata": {
    "collapsed": true
   },
   "outputs": [],
   "source": [
    "#grid search for nearest centroid\n",
    "param_grid_nc = [{'shrink_threshold': [0,0.5,1,10, 15, 20, 50, 100]}]\n",
    "grid_nc = GridSearchCV(NearestCentroid(), param_grid_nc, cv = 3)\n",
    "grid_nc.fit(X_train,y_train)"
   ]
  },
  {
   "cell_type": "code",
   "execution_count": null,
   "metadata": {
    "collapsed": true
   },
   "outputs": [],
   "source": [
    "print('Nearest Centroid - Best Parameters :',grid_nc.best_params_)\n",
    "print('Nearest Centroid - Best Score :{:.4f}'.format(grid_nc.best_score_))"
   ]
  },
  {
   "cell_type": "code",
   "execution_count": null,
   "metadata": {
    "collapsed": true
   },
   "outputs": [],
   "source": [
    "results_nc = pd.DataFrame(grid_nc.cv_results_)\n",
    "results_nc"
   ]
  },
  {
   "cell_type": "code",
   "execution_count": null,
   "metadata": {
    "collapsed": true
   },
   "outputs": [],
   "source": []
  },
  {
   "cell_type": "markdown",
   "metadata": {},
   "source": [
    "# 2.4"
   ]
  },
  {
   "cell_type": "markdown",
   "metadata": {},
   "source": [
    "Change the cross-validation strategy from ‘stratified k-fold’ to ‘kfold’ with shuffling. Do the\n",
    "parameters that are found change? Do they change if you change the random seed of the\n",
    "shuffling? Or if you change the random state of the split into training and test data?"
   ]
  },
  {
   "cell_type": "code",
   "execution_count": null,
   "metadata": {
    "collapsed": true
   },
   "outputs": [],
   "source": [
    "X_train1, X_test1, y_train1, y_test1 = train_test_split(cov, cover_type, random_state=42)"
   ]
  },
  {
   "cell_type": "code",
   "execution_count": null,
   "metadata": {
    "collapsed": true
   },
   "outputs": [],
   "source": [
    "param_grid = [{'C': [0.01, 1, 10, 100, 1000]}]\n",
    "kf = KFold(shuffle=True, random_state = 42)\n",
    "grid_lr41a = GridSearchCV(LogisticRegression(multi_class='multinomial', dual=False, solver='lbfgs', tol=0.001), param_grid, cv=kf)\n",
    "grid_lr41a.fit(X_train,y_train)\n",
    "df41a = pd.DataFrame(grid_lr41a.cv_results_) \n",
    "df41a"
   ]
  },
  {
   "cell_type": "code",
   "execution_count": null,
   "metadata": {
    "collapsed": true
   },
   "outputs": [],
   "source": [
    "param_grid = [{'C': [0.01, 1, 10, 100, 1000]}]\n",
    "kf = KFold(shuffle=True, random_state = 24)\n",
    "grid_lr41b = GridSearchCV(LogisticRegression(multi_class='multinomial', dual=False, solver='lbfgs', tol=0.001), param_grid, cv=kf)\n",
    "grid_lr41b.fit(X_train,y_train)\n",
    "df41b = pd.DataFrame(grid_lr41b.cv_results_) \n",
    "df41b"
   ]
  },
  {
   "cell_type": "code",
   "execution_count": null,
   "metadata": {
    "collapsed": true
   },
   "outputs": [],
   "source": [
    "\n",
    "param_grid = [{'C': [0.01, 1, 10, 100, 1000]}]\n",
    "kf = KFold(shuffle=True, random_state = 24)\n",
    "grid_lr41c = GridSearchCV(LogisticRegression(multi_class='multinomial', dual=False, solver='lbfgs', tol=0.001), param_grid, cv=kf)\n",
    "grid_lr41c.fit(X_train1,y_train1)\n",
    "df41c = pd.DataFrame(grid_lr41c.cv_results_) \n",
    "df41c"
   ]
  },
  {
   "cell_type": "code",
   "execution_count": null,
   "metadata": {
    "collapsed": true
   },
   "outputs": [],
   "source": []
  },
  {
   "cell_type": "code",
   "execution_count": null,
   "metadata": {
    "collapsed": true
   },
   "outputs": [],
   "source": [
    "param_grid = [{'C': [0.01, 1, 10, 100, 1000]}]\n",
    "kf = KFold(shuffle=True, random_state = 42)\n",
    "grid_lr42a = GridSearchCV(LinearSVC(dual=False, tol=0.001), param_grid, cv=kf)\n",
    "grid_lr42a.fit(X_train,y_train)\n",
    "df42a = pd.DataFrame(grid_lr42a.cv_results_) \n",
    "df42a"
   ]
  },
  {
   "cell_type": "code",
   "execution_count": null,
   "metadata": {
    "collapsed": true
   },
   "outputs": [],
   "source": [
    "param_grid = [{'C': [0.01, 1, 10, 100, 1000]}]\n",
    "kf = KFold(shuffle=True, random_state = 24)\n",
    "grid_lr42b = GridSearchCV(LinearSVC(dual=False, tol=0.001), param_grid, cv=kf)\n",
    "grid_lr42b.fit(X_train,y_train)\n",
    "df42b = pd.DataFrame(grid_lr42b.cv_results_) \n",
    "df42b"
   ]
  },
  {
   "cell_type": "code",
   "execution_count": null,
   "metadata": {
    "collapsed": true
   },
   "outputs": [],
   "source": [
    "param_grid = [{'C': [0.01, 1, 10, 100, 1000]}]\n",
    "kf = KFold(shuffle=True, random_state = 24)\n",
    "grid_lr42c = GridSearchCV(LinearSVC(dual=False, tol=0.001), param_grid, cv=kf)\n",
    "grid_lr42c.fit(X_train1,y_train1)\n",
    "df42c = pd.DataFrame(grid_lr42c.cv_results_) \n",
    "df42c"
   ]
  },
  {
   "cell_type": "code",
   "execution_count": null,
   "metadata": {
    "collapsed": true
   },
   "outputs": [],
   "source": []
  },
  {
   "cell_type": "code",
   "execution_count": null,
   "metadata": {
    "collapsed": true
   },
   "outputs": [],
   "source": [
    "param_grid = [{'shrink_threshold': [0,0.5,1,10, 15, 20, 50, 100]}]\n",
    "kf = KFold(shuffle=True, random_state = 42)\n",
    "grid_lr43a = GridSearchCV(NearestCentroid(), param_grid, cv=kf)\n",
    "grid_lr43a.fit(X_train,y_train)\n",
    "df43a = pd.DataFrame(grid_lr43a.cv_results_) \n",
    "df43a"
   ]
  },
  {
   "cell_type": "code",
   "execution_count": null,
   "metadata": {
    "collapsed": true
   },
   "outputs": [],
   "source": [
    "param_grid = [{'shrink_threshold': [0,0.5,1,10, 15, 20, 50, 100]}]\n",
    "kf = KFold(shuffle=True, random_state = 24)\n",
    "grid_lr43b = GridSearchCV(NearestCentroid(), param_grid, cv=kf)\n",
    "grid_lr43b.fit(X_train,y_train)\n",
    "df43b = pd.DataFrame(grid_lr43b.cv_results_) \n",
    "df43b"
   ]
  },
  {
   "cell_type": "code",
   "execution_count": null,
   "metadata": {
    "collapsed": true
   },
   "outputs": [],
   "source": [
    "param_grid = [{'shrink_threshold': [0,0.5,1,10, 15, 20, 50, 100]}]\n",
    "kf = KFold(shuffle=True, random_state = 24)\n",
    "grid_lr43c = GridSearchCV(NearestCentroid(), param_grid, cv=kf)\n",
    "grid_lr43c.fit(X_train1,y_train1)\n",
    "df43c = pd.DataFrame(grid_lr43c.cv_results_) \n",
    "df43c"
   ]
  },
  {
   "cell_type": "code",
   "execution_count": null,
   "metadata": {
    "collapsed": true
   },
   "outputs": [],
   "source": []
  },
  {
   "cell_type": "code",
   "execution_count": null,
   "metadata": {
    "collapsed": true
   },
   "outputs": [],
   "source": []
  },
  {
   "cell_type": "code",
   "execution_count": null,
   "metadata": {
    "collapsed": true
   },
   "outputs": [],
   "source": []
  },
  {
   "cell_type": "code",
   "execution_count": null,
   "metadata": {
    "collapsed": true
   },
   "outputs": [],
   "source": []
  },
  {
   "cell_type": "code",
   "execution_count": null,
   "metadata": {
    "collapsed": true
   },
   "outputs": [],
   "source": [
    "d en . kmew"
   ]
  }
 ],
 "metadata": {
  "kernelspec": {
   "display_name": "Python 3",
   "language": "python",
   "name": "python3"
  },
  "language_info": {
   "codemirror_mode": {
    "name": "ipython",
    "version": 3
   },
   "file_extension": ".py",
   "mimetype": "text/x-python",
   "name": "python",
   "nbconvert_exporter": "python",
   "pygments_lexer": "ipython3",
   "version": "3.6.1"
  }
 },
 "nbformat": 4,
 "nbformat_minor": 2
}
